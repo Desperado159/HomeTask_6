{
  "nbformat": 4,
  "nbformat_minor": 0,
  "metadata": {
    "colab": {
      "provenance": []
    },
    "kernelspec": {
      "name": "python3",
      "display_name": "Python 3"
    },
    "language_info": {
      "name": "python"
    }
  },
  "cells": [
    {
      "cell_type": "code",
      "execution_count": 22,
      "metadata": {
        "colab": {
          "base_uri": "https://localhost:8080/"
        },
        "id": "hUN3X7IoMyV2",
        "outputId": "f5155387-84c3-420d-a418-26ea683dd917"
      },
      "outputs": [
        {
          "output_type": "stream",
          "name": "stdout",
          "text": [
            "Ridge\n",
            "R2 train score = 0.4227500042714355\n",
            "R2 test score = 0.4342970082842498\n",
            "b: 148.99988868218784, \n",
            "w= [  31.07135389  -67.81258571  284.12046397  158.3081174    25.34302859\n",
            "  -14.6316645  -130.28687824  116.41280432  239.50350188  108.52433481]\n"
          ]
        }
      ],
      "source": [
        "%matplotlib notebook\n",
        "import matplotlib.pyplot as plt\n",
        "import pandas as pd \n",
        "import numpy as np \n",
        "from sklearn.model_selection import train_test_split\n",
        "from sklearn.datasets import load_diabetes\n",
        "\n",
        "from sklearn.linear_model import Ridge\n",
        "\n",
        "ridge_reg=Ridge()\n",
        "X, y = load_diabetes(return_X_y=True)\n",
        "X_train, X_test, y_train, y_test=  train_test_split(X, y, random_state=2021)\n",
        "ridge_reg.fit(X_train,y_train)\n",
        "regressor = ridge_reg\n",
        "print ('Ridge')\n",
        "print ('R2 train score =', regressor.score(X_train, y_train))\n",
        "print ('R2 test score =', regressor.score(X_test, y_test))\n",
        "print ('b: {}, \\nw= {}'.format(regressor.intercept_, regressor.coef_)) \n"
      ]
    },
    {
      "cell_type": "code",
      "source": [
        "from sklearn.linear_model import Lasso\n",
        "\n",
        "lasso_reg=Lasso()\n",
        "lasso_reg.fit(X_train,y_train)\n",
        "regressor = lasso_reg\n",
        "print ('Lasso')\n",
        "print ('R2 train score =', regressor.score(X_train, y_train))\n",
        "print ('R2 test score =', regressor.score(X_test, y_test))\n",
        "print ('b: {}, \\nw= {}'.format(regressor.intercept_, regressor.coef_)) "
      ],
      "metadata": {
        "colab": {
          "base_uri": "https://localhost:8080/"
        },
        "id": "QvEJqlCbPd3f",
        "outputId": "113ff066-2494-4bad-c965-d8a4304cb907"
      },
      "execution_count": 13,
      "outputs": [
        {
          "output_type": "stream",
          "name": "stdout",
          "text": [
            "Lasso\n",
            "R2 train score = 0.36602010243711314\n",
            "R2 test score = 0.3392074106660582\n",
            "b: 149.4852586610367, \n",
            "w= [  0.          -0.         379.30470419   0.           0.\n",
            "   0.          -0.           0.         317.42763802   0.        ]\n"
          ]
        }
      ]
    }
  ]
}